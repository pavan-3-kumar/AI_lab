{
 "cells": [
  {
   "cell_type": "code",
   "execution_count": 1,
   "id": "5b61be00",
   "metadata": {},
   "outputs": [],
   "source": [
    "def bfs(a):\n",
    "    ans=[]\n",
    "    k = 1\n",
    "    p=0\n",
    "    end=4\n",
    "    vis=[0]*14\n",
    "    ans.append(0)\n",
    "    while(k<=13):\n",
    "        print(ans[p],end=\" \")\n",
    "        if(ans[p]==destination):\n",
    "            break\n",
    "        k+=1\n",
    "        vis[ans[p]]=1\n",
    "        if(len(a[ans[p]])==0):\n",
    "            p+=1\n",
    "            continue\n",
    "        for j in a[ans[p]]:\n",
    "            if(vis[j]==0):\n",
    "                ans.append(j)\n",
    "                vis[j]=1\n",
    "        p+=1"
   ]
  },
  {
   "cell_type": "code",
   "execution_count": 2,
   "id": "d634bcda",
   "metadata": {},
   "outputs": [],
   "source": [
    "a=[[5,1,2,11],[0,7,3],[0,10,12],[1,9,4],[3],[0,6,7],[5],[1,5,8],[7],[3],[2],[0],[2]]\n",
    "destination = 4"
   ]
  },
  {
   "cell_type": "code",
   "execution_count": 3,
   "id": "eb19daf9",
   "metadata": {},
   "outputs": [
    {
     "name": "stdout",
     "output_type": "stream",
     "text": [
      "0 5 1 2 11 6 7 3 10 12 8 9 4 "
     ]
    }
   ],
   "source": [
    "bfs(a)"
   ]
  },
  {
   "cell_type": "code",
   "execution_count": 4,
   "id": "c906b60c",
   "metadata": {},
   "outputs": [],
   "source": [
    " def dfs(a,source):\n",
    "    ans=[source]\n",
    "    vis=[0]*13\n",
    "    vis[0]=1\n",
    "    while(len(ans)):\n",
    "        print(ans[-1],end=\" \")\n",
    "        t= ans[-1]\n",
    "        ans.pop()\n",
    "        for i in a[t]:\n",
    "            if(vis[i]==0):\n",
    "                ans.append(i)\n",
    "                vis[i]=1\n",
    "    \n",
    "                \n"
   ]
  },
  {
   "cell_type": "code",
   "execution_count": 5,
   "id": "ba2962a9",
   "metadata": {},
   "outputs": [
    {
     "name": "stdout",
     "output_type": "stream",
     "text": [
      "0 11 2 12 10 1 3 4 9 7 8 5 6 "
     ]
    }
   ],
   "source": [
    "dfs(a,0)"
   ]
  },
  {
   "cell_type": "code",
   "execution_count": 32,
   "id": "44ed1474",
   "metadata": {},
   "outputs": [],
   "source": [
    "def water(m , n , goal):\n",
    "    a,b=0,0\n",
    "    ans=[(0,0)]\n",
    "    d={}\n",
    "    for i in range(m+1):\n",
    "        for j in range(n+1):\n",
    "            d[(i,j)]=0\n",
    "    for i in range(n+1):\n",
    "        for j in range(m+1):\n",
    "            d[(i,j)]=0\n",
    "   \n",
    "    while(len(ans)>0):\n",
    "#         for i in ans:\n",
    "#             print(i,\" \")\n",
    "#         print()\n",
    "        a,b=ans[0]\n",
    "#         print(ans[0])\n",
    "        ans=ans[1:]\n",
    "#         if(d[(a,b)] == 1):\n",
    "#             continue\n",
    "        d[(a,b)]=1\n",
    "        print(a,\" - \",b)\n",
    "        \n",
    "        if((a==goal and b==0) or (a==0 and b==goal)):\n",
    "            print(\"goal reaceived\")\n",
    "            break        \n",
    "        if(d[(m,b)]==0):\n",
    "            ans.append((m,b))\n",
    "            d[(m,b)]=1\n",
    "        if(d[(a,n)]==0):\n",
    "            ans.append((a,n))\n",
    "            d[(a,n)]=1\n",
    "        if(not(b-m+a <0)):\n",
    "            if(d[(m,b-m+a)]==0):\n",
    "                ans.append((m,b-m+a))\n",
    "                d[m,b-m+a]=1\n",
    "        if(not(a-n+b < 0)):\n",
    "            if(d[(a-n+b , n)]==0):\n",
    "                ans.append((a-n+b , n))\n",
    "                d[(a-n+b , n)]=1\n",
    "        if(not(a+b>m)):\n",
    "            if(d[(a+b,0)]==0):\n",
    "                ans.append((a+b,0))\n",
    "                d[(a+b,0)]=1\n",
    "        if(not(a+b>n)):\n",
    "            if(d[(0,a+b)]==0):\n",
    "                ans.append((0,a+b))\n",
    "                d[(0,a+b)]=1\n",
    "        if(d[(0,b)]==0):\n",
    "            ans.append((0,b))\n",
    "        if(d[(a,0)]==0):\n",
    "            ans.append((a,0))"
   ]
  },
  {
   "cell_type": "code",
   "execution_count": 33,
   "id": "fa29a5ab",
   "metadata": {},
   "outputs": [
    {
     "name": "stdout",
     "output_type": "stream",
     "text": [
      "0  -  0\n",
      "5  -  0\n",
      "0  -  2\n",
      "5  -  2\n",
      "3  -  2\n",
      "2  -  0\n",
      "3  -  0\n",
      "2  -  2\n",
      "1  -  2\n",
      "4  -  0\n",
      "goal reaceived\n"
     ]
    }
   ],
   "source": [
    "water(5,2,4)"
   ]
  },
  {
   "cell_type": "code",
   "execution_count": null,
   "id": "6c1d68e4",
   "metadata": {},
   "outputs": [],
   "source": []
  },
  {
   "cell_type": "code",
   "execution_count": null,
   "id": "9919a30d",
   "metadata": {},
   "outputs": [],
   "source": [
    "# BFS "
   ]
  },
  {
   "cell_type": "code",
   "execution_count": 1,
   "id": "a8677183",
   "metadata": {},
   "outputs": [],
   "source": [
    "def bfs(adj, start , vis , goal):\n",
    "    p=[start]\n",
    "    openlist=[start]\n",
    "    print(\"openlist   --  closelist\")\n",
    "    while len(p) > 0: \n",
    "        node = p[0]\n",
    "        vis[ord(node)-96]=1\n",
    "        print(openlist,end=\"  \")\n",
    "        print(closelist[::-1])\n",
    "        if(node == goal):\n",
    "            print(\"goal reached\")\n",
    "            return \n",
    "        closelist.append(node)\n",
    "        openlist=openlist[1:]\n",
    "#         print(node)\n",
    "        p=p[1:]\n",
    "        for i in adj[node]:\n",
    "            if vis[ord(i)-96]==0:\n",
    "                p.append(i)\n",
    "                vis[ord(i)-96]=1\n",
    "                openlist.append(i)\n",
    "\n",
    "            \n",
    "    "
   ]
  },
  {
   "cell_type": "code",
   "execution_count": 2,
   "id": "a038bcb4",
   "metadata": {},
   "outputs": [
    {
     "name": "stdout",
     "output_type": "stream",
     "text": [
      "openlist   --  closelist\n",
      "['a']  []\n",
      "['b', 'c', 'd']  ['a']\n",
      "['c', 'd', 'e', 'f']  ['b', 'a']\n",
      "['d', 'e', 'f', 'g']  ['c', 'b', 'a']\n",
      "['e', 'f', 'g']  ['d', 'c', 'b', 'a']\n",
      "['f', 'g', 'h', 'i']  ['e', 'd', 'c', 'b', 'a']\n",
      "['g', 'h', 'i', 'j']  ['f', 'e', 'd', 'c', 'b', 'a']\n",
      "goal reached\n"
     ]
    }
   ],
   "source": [
    "adj={'a':['b','c','d'],'b':['e','f'] , 'c':['f','g'],'d':[],'e':['h','i'],'f':['j'],'g':[],'h':[],'i':[],'j':[]}\n",
    "start='a'\n",
    "goal ='g'\n",
    "vis=[0]*(len(adj)+1)\n",
    "closelist=[]\n",
    "openlist=[]\n",
    "bfs(adj, start , vis , goal )"
   ]
  },
  {
   "cell_type": "code",
   "execution_count": null,
   "id": "ff2b3a76",
   "metadata": {},
   "outputs": [],
   "source": [
    "#dfs\n"
   ]
  },
  {
   "cell_type": "code",
   "execution_count": 3,
   "id": "8692d72a",
   "metadata": {},
   "outputs": [],
   "source": [
    "def dfs(adj , vis ,goal , openlist , closelist):\n",
    "    while openlist != []:\n",
    "        print(openlist, closelist)\n",
    "        node = openlist.pop(0)\n",
    "        if node == goal:\n",
    "            print(\"goal is found\")\n",
    "            return \n",
    "        closelist.append(node)\n",
    "        for i in adj[node]:\n",
    "            if vis[ord(i)-96]==0 :\n",
    "                vis[ord(i)-96]=1\n",
    "                openlist.insert(0,i)\n",
    "            \n",
    "    "
   ]
  },
  {
   "cell_type": "code",
   "execution_count": null,
   "id": "667f9ea5",
   "metadata": {},
   "outputs": [],
   "source": [
    "adj={'a':['b','c','d'],'b':['e','f'] , 'c':['f','g'],'d':[],'e':['h','i'],'f':['j'],'g':[],'h':[],'i':[],'j':[]}\n",
    "# start='a'\n",
    "goal ='g'\n",
    "vis=[0]*(len(adj)+1)\n",
    "vis[ord('a')-96]=1\n",
    "openlist=['a']\n",
    "closelist=[]\n",
    "dfs(adj , vis , goal , openlist , closelist)       "
   ]
  },
  {
   "cell_type": "markdown",
   "id": "27549993",
   "metadata": {},
   "source": [
    "#uniform cost search"
   ]
  },
  {
   "cell_type": "code",
   "execution_count": 24,
   "id": "d86d1676",
   "metadata": {},
   "outputs": [],
   "source": [
    "def uniform(adj , vis , goal , start ):\n",
    "    queue = []\n",
    "    ans = 10**8\n",
    "    closed=[]\n",
    "    queue.append([0 , start])\n",
    "    while queue != []:\n",
    "        queue=sorted(queue,reverse=True)\n",
    "        print(queue,end=\"    \")\n",
    "        print(closed)\n",
    "        pa = queue[-1]\n",
    "        queue.pop()\n",
    "        closed.append([pa[1],pa[0]])\n",
    "#         pa[0]*=-1\n",
    "        if pa[1]== goal:\n",
    "            if ans > abs(pa[0]):\n",
    "                ans = abs(pa[0])\n",
    "            print(\"goal is reached\")\n",
    "            return ans \n",
    "        if vis[ord(pa[1])-96] == 0 :\n",
    "            for i in adj[pa[1]]:\n",
    "                queue.append([(abs(pa[0]) + i[1])  , i[0]])\n",
    "        vis[ord(pa[1])-96] = 1\n",
    "        "
   ]
  },
  {
   "cell_type": "code",
   "execution_count": 26,
   "id": "f8ffa205",
   "metadata": {},
   "outputs": [
    {
     "name": "stdout",
     "output_type": "stream",
     "text": [
      "open    closed\n",
      "[[0, 'a']]    []\n",
      "[[6, 'b'], [4, 'c']]    [['a', 0]]\n",
      "[[12, 'f'], [6, 'b']]    [['a', 0], ['c', 4]]\n",
      "[[12, 'f'], [10, 'd']]    [['a', 0], ['c', 4], ['b', 6]]\n",
      "[[12, 'g'], [12, 'f']]    [['a', 0], ['c', 4], ['b', 6], ['d', 10]]\n",
      "[[21, 'e'], [19, 'h'], [12, 'g']]    [['a', 0], ['c', 4], ['b', 6], ['d', 10], ['f', 12]]\n",
      "[[21, 'e'], [21, 'e'], [19, 'h'], [15, 'h']]    [['a', 0], ['c', 4], ['b', 6], ['d', 10], ['f', 12], ['g', 12]]\n",
      "[[21, 'e'], [21, 'e'], [19, 'h'], [19, 'e']]    [['a', 0], ['c', 4], ['b', 6], ['d', 10], ['f', 12], ['g', 12], ['h', 15]]\n",
      "goal is reached\n",
      "19\n"
     ]
    }
   ],
   "source": [
    "adj={'a':[('b',6),('c',4)],'b':[('d',4)],'c':[('f',8)],'d':[('g',2)],'g':[('h',3),('e',9)],'f':[('h',7),('e',9)],\n",
    "     'h':[('e',4)],'e':[]}\n",
    "# graph in pdf \n",
    "vis=[0]*9\n",
    "vis[0]=1\n",
    "print(\"open    closed\")\n",
    "print(uniform(adj , vis , 'e' , 'a'))"
   ]
  },
  {
   "attachments": {},
   "cell_type": "markdown",
   "id": "1207ea11",
   "metadata": {},
   "source": [
    "# iterative deepening depth first search"
   ]
  },
  {
   "cell_type": "code",
   "execution_count": 42,
   "id": "aae3d925",
   "metadata": {},
   "outputs": [],
   "source": [
    "def dedfs(de , adj , target):\n",
    "    vis = [1]\n",
    "    check =[0]\n",
    "    s=[1]\n",
    "    while s != []:\n",
    "        pa = s.pop()\n",
    "        print(pa ,end=\" \")\n",
    "        p= check.pop()\n",
    "        if pa == target :\n",
    "            print(\"goal is reached within in level\")\n",
    "            return 1\n",
    "        if p+1 > de:\n",
    "            continue \n",
    "        for i in adj[pa]:\n",
    "            if i in vis :\n",
    "                continue\n",
    "            vis.append(i)\n",
    "            check.append(p+1)\n",
    "            s.append(i)\n",
    "    return 0                \n",
    "        \n",
    "\n",
    "\n",
    "\n",
    "def solve(depth, adj , target):\n",
    "    for i in range(depth+1):\n",
    "        print('depth-',i,\":\",end=\" \")\n",
    "        if(dedfs(i, adj , target)):\n",
    "            break\n",
    "        print()\n",
    "            \n",
    "        "
   ]
  },
  {
   "cell_type": "code",
   "execution_count": 43,
   "id": "2e2dfee1",
   "metadata": {},
   "outputs": [
    {
     "name": "stdout",
     "output_type": "stream",
     "text": [
      "depth- 0 : 1 \n",
      "depth- 1 : 1 5 2 \n",
      "depth- 2 : 1 5 7 6 goal is reached within in level\n"
     ]
    }
   ],
   "source": [
    "adj={1:[2,5],2:[3,4],3:[8,9],5:[6,7],7:[10,11]}\n",
    "source = 1\n",
    "depth = 2\n",
    "target = 6\n",
    "solve(depth, adj , target)"
   ]
  },
  {
   "cell_type": "code",
   "execution_count": 44,
   "id": "be9b2931",
   "metadata": {},
   "outputs": [],
   "source": [
    "# bidirectional"
   ]
  },
  {
   "cell_type": "code",
   "execution_count": 46,
   "id": "eae7f6bb",
   "metadata": {},
   "outputs": [
    {
     "name": "stdout",
     "output_type": "stream",
     "text": [
      "Enter edges: [[1,2],[1,5],[2,3],[2,4],[3,8],[3,9],[5,6],[5,7],[7,10],[7,11]]\n",
      "1\n",
      "2\n",
      "5\n",
      "3\n",
      "4\n",
      "8\n",
      "9\n",
      "6\n",
      "7\n",
      "10\n",
      "11\n",
      "Enter initial state: 1\n",
      "Enter goal state: 9\n",
      "\n",
      "Intersection Node: 2\n",
      "Path : [1, 2, 3, 9]\n"
     ]
    }
   ],
   "source": [
    "from collections import defaultdict\n",
    "graph=defaultdict(list)\n",
    "\n",
    "edges=eval(input('Enter edges: '))\n",
    "for i in edges:\n",
    "  graph[i[0]].append(i[1])\n",
    "  graph[i[1]].append(i[0])\n",
    "\n",
    "src=int(input('Enter initial state: '))\n",
    "dest=int(input('Enter goal state: '))\n",
    "visit_f=[src]\n",
    "visit_b=[dest]\n",
    "front_f,top_f,front_b,top_b=0,0,0,0\n",
    "\n",
    "def bfs_f():\n",
    "  if src==dest:\n",
    "    return src\n",
    "  global front_f,top_f\n",
    "\n",
    "  while front_f<=top_f:\n",
    "    s=visit_f[front_f]\n",
    "    for i in graph[s]:\n",
    "      if i not in visit_f:\n",
    "        visit_f.append(i)tgit\n",
    "        top_f=top_f+1\n",
    "        if i in visit_b:\n",
    "          return i\n",
    "        else:\n",
    "          k=bfs_b()\n",
    "          if k!=-1: return k\n",
    "\n",
    "    front_f=front_f+1\n",
    "  return -1\n",
    "\n",
    "def bfs_b():\n",
    "  global front_b,top_b\n",
    "\n",
    "  while front_b<=top_b:\n",
    "    s=visit_b[front_b]\n",
    "    for i in graph[s]:\n",
    "      if i not in visit_b:\n",
    "        visit_b.append(i)\n",
    "        top_b=top_b+1\n",
    "        if i in visit_f:\n",
    "          return i\n",
    "        else:\n",
    "          k=bfs_f()\n",
    "          if k!=-1: return k\n",
    "\n",
    "    front_b=front_b+1\n",
    "  return -1\n",
    "\n",
    "def remove(l,g):\n",
    "  a=l.index(g)\n",
    "  for i in range(a,0,-1):\n",
    "    if [l[i],l[i-1]] not in edges and [l[i-1],l[i]] not in edges:\n",
    "      l.remove(l[i-1])\n",
    "  a=l.index(g)\n",
    "  return a\n",
    "\n",
    "g=bfs_f()\n",
    "if g==-1:\n",
    "  print('No intersection')\n",
    "else:\n",
    "  print('\\nIntersection Node:',g)\n",
    "  a=remove(visit_f,g)\n",
    "  b=remove(visit_b,g)\n",
    "  k=visit_f[:a]+visit_b[b::-1]\n",
    "  print('Path :',k)\n",
    "\n",
    "#[[1,2],[1,5],[2,3],[2,4],[3,8],[3,9],[5,6],[5,7],[7,10],[7,11]]"
   ]
  }
 ],
 "metadata": {
  "kernelspec": {
   "display_name": "Python 3 (ipykernel)",
   "language": "python",
   "name": "python3"
  },
  "language_info": {
   "codemirror_mode": {
    "name": "ipython",
    "version": 3
   },
   "file_extension": ".py",
   "mimetype": "text/x-python",
   "name": "python",
   "nbconvert_exporter": "python",
   "pygments_lexer": "ipython3",
   "version": "3.9.13"
  }
 },
 "nbformat": 4,
 "nbformat_minor": 5
}
